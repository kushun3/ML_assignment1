{
  "nbformat": 4,
  "nbformat_minor": 0,
  "metadata": {
    "colab": {
      "name": "18M70013_report2.ipynb",
      "version": "0.3.2",
      "provenance": [],
      "collapsed_sections": [],
      "include_colab_link": true
    },
    "kernelspec": {
      "display_name": "Python 3",
      "language": "python",
      "name": "python3"
    }
  },
  "cells": [
    {
      "cell_type": "markdown",
      "metadata": {
        "id": "view-in-github",
        "colab_type": "text"
      },
      "source": [
        "[View in Colaboratory](https://colab.research.google.com/github/kushun3/ML_assignment1/blob/master/18M70013_report2.ipynb)"
      ]
    },
    {
      "metadata": {
        "id": "vCfo1Oy2wBSI",
        "colab_type": "text"
      },
      "cell_type": "markdown",
      "source": [
        "# Machine Learning: Intermediate report\n",
        "\n",
        "+ Your name (18M70013)"
      ]
    },
    {
      "metadata": {
        "id": "D0vHbHZ1wBSK",
        "colab_type": "text"
      },
      "cell_type": "markdown",
      "source": [
        "Prepare an environment for running Python codes on Jupyter notebook. The most easiest way is to use [Google Colaboratory](https://colab.research.google.com/).\n",
        "\n",
        "Write codes for the following three (and one optional) problems, and submit the notebook (`.ipynb`) as well as its HTML conversion (`.html`). *We do not accept a report in other formats (e.g., Word, PDF)*. Write a code at the specified cell in the notebook. One can add more cells if necessary.\n",
        "\n",
        "These are the links to the sample codes used in the lecture:\n",
        "\n",
        "+ [Binary classification](https://github.com/chokkan/deeplearningclass/blob/master/mlp_binary.ipynb)\n",
        "+ [MNIST](https://github.com/chokkan/deeplearningclass/blob/master/mnist.ipynb)"
      ]
    },
    {
      "metadata": {
        "id": "emD0qyr3wBSL",
        "colab_type": "text"
      },
      "cell_type": "markdown",
      "source": [
        "## 1. Multi-class classification on MNIST\n",
        "\n",
        "Train a model on the training set of MNIST, and report the accuracy of the model on the test set. One can use the same code shown in the lecture. Write a code here and show the output."
      ]
    },
    {
      "metadata": {
        "id": "JfHybcx8wBSL",
        "colab_type": "code",
        "colab": {}
      },
      "cell_type": "code",
      "source": [
        ""
      ],
      "execution_count": 0,
      "outputs": []
    },
    {
      "metadata": {
        "id": "_MIzcgxmwBSQ",
        "colab_type": "text"
      },
      "cell_type": "markdown",
      "source": [
        "## 2. Confusion matrix\n",
        "\n",
        "Show a confusion matrix of the predictions of the model on the test set. This is an example of a confusion matrix.\n",
        "\n",
        "![example](https://github.com/chokkan/deeplearningclass/blob/master/assignment/example-confusion-matrix.png?raw=1)\n",
        "\n",
        "Write a code here and show the confusion matrix."
      ]
    },
    {
      "metadata": {
        "id": "PlaQhk22wBSR",
        "colab_type": "code",
        "colab": {}
      },
      "cell_type": "code",
      "source": [
        ""
      ],
      "execution_count": 0,
      "outputs": []
    },
    {
      "metadata": {
        "id": "jC_TST0qwBSU",
        "colab_type": "text"
      },
      "cell_type": "markdown",
      "source": [
        "## 3. Top-3 confusing examples\n",
        "\n",
        "Show the top three images where the model misrecognized their digits with strong confidences. More specifically, let $y_n$ and $\\hat{y}_n$ the true and predicted, respectively, digits of the image $x_n$. We want to find three images with high $P(\\hat{y}_n | x_n)$ when $y_n \\neq \\hat{y}_n$.\n",
        "\n",
        "Please show $y_n$, $P(y_n | x_n)$, $\\hat{y}_n$, and $P(\\hat{y}_n | x_n)$. This is an example of an output for an image (you need this kind of outputs for top-three images).\n",
        "\n",
        "![example](https://github.com/chokkan/deeplearningclass/blob/master/assignment/example-confusing-sample.png?raw=1)\n",
        "\n",
        "Write a code here and show the output."
      ]
    },
    {
      "metadata": {
        "id": "lQmoEcofwBSV",
        "colab_type": "code",
        "colab": {}
      },
      "cell_type": "code",
      "source": [
        ""
      ],
      "execution_count": 0,
      "outputs": []
    },
    {
      "metadata": {
        "id": "v_Vww42qwBSX",
        "colab_type": "text"
      },
      "cell_type": "markdown",
      "source": [
        "## 4. Sample codes in other DL frameworks\n",
        "\n",
        "(Advanced; optional) Implement one or more sample code(s) with a different deep learning framework (e.g., Chainer, TensorFlow, DyNet) corresponding to the slides 60-66 in binary classification. *When subitting an answer to this problem, please agree that some of the submitted codes will be distributed on the Web site to improve this lecture.*"
      ]
    },
    {
      "metadata": {
        "id": "qVTZzLFcwBSX",
        "colab_type": "code",
        "colab": {}
      },
      "cell_type": "code",
      "source": [
        ""
      ],
      "execution_count": 0,
      "outputs": []
    }
  ]
}