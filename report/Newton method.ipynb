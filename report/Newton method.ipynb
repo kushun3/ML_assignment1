{
 "cells": [
  {
   "cell_type": "code",
   "execution_count": 18,
   "metadata": {},
   "outputs": [],
   "source": [
    "import numpy as np\n",
    "import pandas as pd\n",
    "import matplotlib.pyplot  as plt\n",
    "\n",
    "%matplotlib inline"
   ]
  },
  {
   "cell_type": "markdown",
   "metadata": {},
   "source": [
    "## データセットの作成"
   ]
  },
  {
   "cell_type": "code",
   "execution_count": 24,
   "metadata": {},
   "outputs": [
    {
     "data": {
      "text/plain": [
       "<matplotlib.collections.PathCollection at 0x113caa0f0>"
      ]
     },
     "execution_count": 24,
     "metadata": {},
     "output_type": "execute_result"
    },
    {
     "data": {
      "image/png": "[encoded data removed]",
      "text/plain": [
       "<matplotlib.figure.Figure at 0x113c06438>"
      ]
     },
     "metadata": {},
     "output_type": "display_data"
    }
   ],
   "source": [
    "n=40;\n",
    "np.random.seed(1)\n",
    "omega = np.random.randn(1,1);\n",
    "noise = 0.8 * np.random.randn(n,1);\n",
    "feature = np.random.randn(n,2);\n",
    "df=pd.DataFrame(feature, columns=['x','y'])\n",
    "df1=pd.DataFrame(noise, columns=['z'])\n",
    "df= pd.concat([df,df1],axis=1)\n",
    "df['c']=df.apply(lambda row :1 if(omega * row.x + row.y + row.z)>0 else -1, axis=1)\n",
    "plt.scatter(x=df.x, y=df.y, c=df.c, alpha=0.6)"
   ]
  },
  {
   "cell_type": "markdown",
   "metadata": {},
   "source": [
    "## 使う関数を定義する"
   ]
  },
  {
   "cell_type": "code",
   "execution_count": 20,
   "metadata": {},
   "outputs": [],
   "source": [
    "#確率を返す関数\n",
    "def get_prob(x, y, w):\n",
    "    feature_vector=np.array([x,y,1])\n",
    "    z=np.inner(feature_vector,w)\n",
    "    return 1.0/(1 + np.exp(-z))\n",
    "\n",
    "#L2正則化ロジスティック損失関数\n",
    "def J(w,r):\n",
    "    likelihood=0\n",
    "    for x, y, c in zip(df.x, df.y, df.c):\n",
    "        i_likelihood = np.log(1+np.exp(-c*np.inner(np.array([x,y,1]),w)))\n",
    "        likelihood = likelihood + i_likelihood\n",
    "    return likelihood+r*np.inner(w,w)\n",
    "\n",
    "#J(w)、L2正則化ロジスティック回帰の対数尤度関数の一回微分\n",
    "def J1(w,r):\n",
    "    likelihood=0\n",
    "    for x, y, c in zip(df.x, df.y, df.c):\n",
    "        if c==1:\n",
    "            prob = get_prob(x, y, w)  \n",
    "        else: \n",
    "            prob = 1.0-get_prob(x, y, w)\n",
    "        i_likelihood = -c*np.array([x,y,1])*(1-prob)\n",
    "        likelihood = likelihood + i_likelihood\n",
    "    return likelihood+2*r*w\n",
    "\n",
    "def J2(w,r):\n",
    "    likelihood=np.zeros((3,3))\n",
    "    I = np.eye(3)\n",
    "    for x, y, c in zip(df.x, df.y, df.c):\n",
    "        X = np.array([x,y,1])\n",
    "        Y = np.c_[X]\n",
    "        if c==1:\n",
    "            prob = get_prob(x, y, w)  \n",
    "        else: \n",
    "            prob = 1.0-get_prob(x, y, w)\n",
    "        i_likelihood =  prob*(1-prob)*X*Y\n",
    "        likelihood = likelihood + i_likelihood\n",
    "    return likelihood + 2*r*I"
   ]
  },
  {
   "cell_type": "code",
   "execution_count": 21,
   "metadata": {},
   "outputs": [],
   "source": [
    "def newton_method(init_w,iteration,stepsize,regularization):\n",
    "    w=np.array(init_w)\n",
    "    r=regularization\n",
    "    loss = J(w,r)\n",
    "    loss_hist = [loss]\n",
    "    for i in range(iteration):\n",
    "        w = w -(stepsize * np.dot(np.linalg.inv(J2(w,r)),J1(w,r)))\n",
    "        loss = J(w,r)\n",
    "        loss_hist.append(loss)\n",
    "    return (loss_hist)"
   ]
  },
  {
   "cell_type": "markdown",
   "metadata": {},
   "source": [
    "# 実行して損失関数のグラフを書く"
   ]
  },
  {
   "cell_type": "code",
   "execution_count": 23,
   "metadata": {},
   "outputs": [
    {
     "data": {
      "text/plain": [
       "[<matplotlib.lines.Line2D at 0x113bd9828>]"
      ]
     },
     "execution_count": 23,
     "metadata": {},
     "output_type": "execute_result"
    },
    {
     "data": {
      "image/png": "[encoded data removed]",
      "text/plain": [
       "<matplotlib.figure.Figure at 0x1139ad160>"
      ]
     },
     "metadata": {},
     "output_type": "display_data"
    }
   ],
   "source": [
    "plt.plot(newton_method([0,0,0],300,0.2,0.01))"
   ]
  }
 ],
 "metadata": {
  "kernelspec": {
   "display_name": "Python 3",
   "language": "python",
   "name": "python3"
  },
  "language_info": {
   "codemirror_mode": {
    "name": "ipython",
    "version": 3
   },
   "file_extension": ".py",
   "mimetype": "text/x-python",
   "name": "python",
   "nbconvert_exporter": "python",
   "pygments_lexer": "ipython3",
   "version": "3.6.3"
  }
 },
 "nbformat": 4,
 "nbformat_minor": 2
}
