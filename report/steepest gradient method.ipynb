{
 "cells": [
  {
   "cell_type": "code",
   "execution_count": 1,
   "metadata": {},
   "outputs": [],
   "source": [
    "import numpy as np\n",
    "import pandas as pd\n",
    "import matplotlib.pyplot  as plt\n",
    "\n",
    "%matplotlib inline"
   ]
  },
  {
   "cell_type": "markdown",
   "metadata": {},
   "source": [
    "## データセットの作成"
   ]
  },
  {
   "cell_type": "code",
   "execution_count": 2,
   "metadata": {},
   "outputs": [
    {
     "data": {
      "text/plain": [
       "<function matplotlib.pyplot.show>"
      ]
     },
     "execution_count": 2,
     "metadata": {},
     "output_type": "execute_result"
    },
    {
     "data": {
      "image/png": "[encoded data removed]",
      "text/plain": [
       "<matplotlib.figure.Figure at 0x108ab9160>"
      ]
     },
     "metadata": {},
     "output_type": "display_data"
    }
   ],
   "source": [
    "n=40;\n",
    "np.random.seed(1)\n",
    "omega = np.random.randn(1,1);\n",
    "noise = 0.8 * np.random.randn(n,1);\n",
    "feature = np.random.randn(n,2);\n",
    "df=pd.DataFrame(feature, columns=['x','y'])\n",
    "df1=pd.DataFrame(noise, columns=['z'])\n",
    "df= pd.concat([df,df1],axis=1)\n",
    "df['c']=df.apply(lambda row :1 if(omega * row.x + row.y + row.z)>0 else -1, axis=1)\n",
    "plt.scatter(x=df.x, y=df.y, c=df.c, alpha=0.6)\n",
    "\n",
    "plt.show"
   ]
  },
  {
   "cell_type": "markdown",
   "metadata": {},
   "source": [
    "## 使う関数を定義する"
   ]
  },
  {
   "cell_type": "code",
   "execution_count": 12,
   "metadata": {},
   "outputs": [],
   "source": [
    "#確率を返す関数\n",
    "def get_prob(x, y, w):\n",
    "    feature_vector=np.array([x,y,1])\n",
    "    z=np.inner(feature_vector,w)\n",
    "    return 1.0/(1 + np.exp(-z))\n",
    "\n",
    "#L2正則化ロジスティック損失関数\n",
    "def J(w,r):\n",
    "    likelihood=0\n",
    "    for x, y, c in zip(df.x, df.y, df.c):\n",
    "        i_likelihood = np.log(1+np.exp(-c*np.inner(np.array([x,y,1]),w)))\n",
    "        likelihood = likelihood + i_likelihood\n",
    "    return likelihood+r*np.inner(w,w)\n",
    "\n",
    "#J(w)、L2正則化ロジスティック回帰の対数尤度関数の一回微分\n",
    "def J1(w,r):\n",
    "    likelihood=0\n",
    "    for x, y, c in zip(df.x, df.y, df.c):\n",
    "        if c==1:\n",
    "            prob = get_prob(x, y, w)  \n",
    "        else: \n",
    "            prob = 1.0-get_prob(x, y, w)\n",
    "        i_likelihood = -c*np.array([x,y,1])*(1-prob)\n",
    "        likelihood = likelihood + i_likelihood\n",
    "    return likelihood+2*r*w\n"
   ]
  },
  {
   "cell_type": "code",
   "execution_count": 13,
   "metadata": {},
   "outputs": [],
   "source": [
    "def gradient_descent_method(init_w,iteration,stepsize,regularization):\n",
    "    init_w=np.array(init_w)\n",
    "    w=init_w\n",
    "    r=regularization\n",
    "    loss = J(w,r)\n",
    "    loss_hist = [loss]\n",
    "    for i in range(iteration):\n",
    "        w = w -(stepsize * J1(w,r))\n",
    "        loss = J(w,r)\n",
    "        loss_hist.append(loss)\n",
    "    return (loss_hist)"
   ]
  },
  {
   "cell_type": "markdown",
   "metadata": {},
   "source": [
    "# 実行して損失関数のグラフを書く"
   ]
  },
  {
   "cell_type": "code",
   "execution_count": 15,
   "metadata": {},
   "outputs": [
    {
     "data": {
      "text/plain": [
       "[<matplotlib.lines.Line2D at 0x10de693c8>]"
      ]
     },
     "execution_count": 15,
     "metadata": {},
     "output_type": "execute_result"
    },
    {
     "data": {
      "image/png": "[encoded data removed]",
      "text/plain": [
       "<matplotlib.figure.Figure at 0x10dc30a90>"
      ]
     },
     "metadata": {},
     "output_type": "display_data"
    }
   ],
   "source": [
    "plt.plot(gradient_descent_method([0,0,0],300,0.2,0.01))"
   ]
  }
 ],
 "metadata": {
  "kernelspec": {
   "display_name": "Python 3",
   "language": "python",
   "name": "python3"
  }
 },
 "nbformat": 4,
 "nbformat_minor": 2
}
